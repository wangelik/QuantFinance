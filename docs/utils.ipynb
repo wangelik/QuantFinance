{
 "cells": [
  {
   "cell_type": "markdown",
   "metadata": {},
   "source": [
    "### Documentation and Examples: `utilities`"
   ]
  },
  {
   "cell_type": "code",
   "execution_count": null,
   "metadata": {},
   "outputs": [],
   "source": [
    "# import table\n",
    "import numpy as np\n",
    "from utils.transformation import returns, logreturns"
   ]
  },
  {
   "cell_type": "markdown",
   "metadata": {},
   "source": [
    "#### Module `transformation`"
   ]
  },
  {
   "cell_type": "code",
   "execution_count": 6,
   "metadata": {},
   "outputs": [
    {
     "name": "stdout",
     "output_type": "stream",
     "text": [
      "Data: [100 110  55]\n",
      "Returns: [ nan  0.1 -0.5]\n",
      "Log-Returns: [        nan  0.09531018 -0.69314718]\n"
     ]
    }
   ],
   "source": [
    "# define test data\n",
    "data = np.array([100, 110, 55])\n",
    "\n",
    "# compute returns and logreturns\n",
    "rets = returns(data)\n",
    "logrets = logreturns(data)\n",
    "\n",
    "# print results\n",
    "print(\n",
    "    f'Data: {data}\\n'\n",
    "    f'Returns: {rets}\\n'\n",
    "    f'Log-Returns: {logrets}'\n",
    "      )"
   ]
  }
 ],
 "metadata": {
  "kernelspec": {
   "display_name": "Python 3",
   "language": "python",
   "name": "python3"
  },
  "language_info": {
   "codemirror_mode": {
    "name": "ipython",
    "version": 3
   },
   "file_extension": ".py",
   "mimetype": "text/x-python",
   "name": "python",
   "nbconvert_exporter": "python",
   "pygments_lexer": "ipython3",
   "version": "3.12.7"
  }
 },
 "nbformat": 4,
 "nbformat_minor": 2
}
